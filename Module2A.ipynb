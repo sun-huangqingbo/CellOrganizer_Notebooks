{
 "cells": [
  {
   "cell_type": "markdown",
   "metadata": {},
   "source": [
    "# Module 2A\n",
    "### Module 2 covers generating SPHARM-RPDM models, creating reports from models, and comparing models.\n",
    "### Module 2A builds two SPHARM-RPDM models for both the nucleus and the cell surface using different input files.  There are examples of two models in the distributed 'models' folder so this module can be skipped to save time.\n",
    "\n",
    "### This module takes about an hour to run (about 5 minutes per cell plus some overhead).\n",
    "### Run the cell below to set up basic parameters:"
   ]
  },
  {
   "cell_type": "code",
   "execution_count": 1,
   "metadata": {},
   "outputs": [],
   "source": [
    "# Code Cell 1\n",
    "\n",
    "from cellorganizer.tools import img2slml\n",
    "from cellorganizer.tools import slml2info\n",
    "import datetime\n",
    "import glob\n",
    "import urllib.request\n",
    "import os\n",
    "import uuid\n",
    "from IPython.core.display import display, HTML, Image\n",
    "\n",
    "module_name = \"Module2A\" #the folder in results that will hold everything\n",
    "\n",
    "model_name = \"Module2A1\"\n",
    "topdir = \"/home/murphylab/cellorganizer/local/results\"\n",
    "outputdir = topdir + os.path.sep + module_name\n",
    "if not os.path.exists(topdir):\n",
    "    os.makedirs(topdir)\n",
    "os.chdir(topdir)\n",
    "os.system(\"ls\")\n",
    "if not os.path.exists(outputdir):\n",
    "    os.makedirs(outputdir)\n",
    "os.chdir(outputdir)\n",
    "os.system(\"ls\")\n",
    "if not os.path.exists(model_name):\n",
    "    os.makedirs(model_name)\n",
    "os.chdir(model_name)\n",
    "os.system(\"ls\")\n",
    "\n",
    "options = {}\n",
    "\n",
    "#set general options\n",
    "options[\"model.name\"] = model_name\n",
    "options[\"model.filename\"] = model_name + '.mat'\n",
    "options[\"output_filename\"] = model_name \n",
    "options[\"verbose\"] = 0\n",
    "options[\"debug\"] = 0\n",
    "options[\"display\"] = 0\n",
    "options[\"model.id\"] = str (uuid.uuid1())\n",
    "options[\"downsampling\"] = [8, 8, 2]\n",
    "options[\"model.resolution\"] = [0.049, 0.049, 0.2000]\n",
    "options[\"if_skip_cell_nuclear_model\"] = 0\n",
    "\n",
    "\n",
    "# postprocess of parameterization: alignment\n",
    "options[\"model.spharm_rpdm.postprocess\"] = 1\n",
    "# # alignment method: 'major_axis' or 'foe'\n",
    "options[\"model.spharm_rpdm.alignment_method\"] = 'major_axis'\n",
    "# # plane of rotation: 'xy', 'xz', 'yz' or 'xyz'\n",
    "options[\"model.spharm_rpdm.rotation_plane\"] = 'xy'\n",
    "# # degree of the descriptor\n",
    "options[\"model.spharm_rpdm.maxDeg\"] = 31\n",
    "# # latent dimension for the model\n",
    "options[\"model.spharm_rpdm.latent_dim\"] = 15\n",
    "options[\"model.spharm_rpdm.segminnucfraction\"] = 0.1\n",
    "\n",
    "\n",
    "#set options that control what kind of model is created\n",
    "options[\"train.flag\"] = 'framework'\n",
    "options[\"cell.class\"] = 'cell_membrane'\n",
    "#best cell shape model - spharm_rpdm - see demo3D50 and demo3D52 for more options\n",
    "options[\"cell.type\"] = 'spharm_rpdm'\n",
    "options[\"nucleus.class\"] = 'nuclear_membrane'\n",
    "#best nuclear shape model - spharm_rpdm - see demo3D52 for more options\n",
    "options[\"nucleus.type\"] = 'spharm_rpdm'\n",
    "#options[\"model.spharm_rpdm.components\"] = {'cell'}\n",
    "options[\"model.spharm_rpdm.components\"] = {'nuc', 'cell'}\n",
    "options[\"hd_threshold\"] = 10\n",
    "options[\"hd_thresh\"] = 10"
   ]
  },
  {
   "cell_type": "markdown",
   "metadata": {},
   "source": [
    "### Ideally, put all files to be used to build a model into a single directory (but all files for a single channel could be in a subdirectory).  The idea is to allow wildcards to be used easily.  Three examples are shown below for different ways that cells and channels might be organized into files.\n",
    "\n",
    "### >>> uncomment one of the cells below to choose the method appropriate for your files <<<\n",
    "### the examples use provided images - you can change the directory and filenames for your own data"
   ]
  },
  {
   "cell_type": "code",
   "execution_count": 2,
   "metadata": {},
   "outputs": [],
   "source": [
    "# Code Cell 2: define the input files for the first model (ten images starting with cell1)\n",
    "\n",
    "directory = '/home/murphylab/cellorganizer/local/images/HeLa/3D/processed/'\n",
    "options[\"masks\"] = []\n",
    "dnaImagesDirectoryPath = []\n",
    "cellImagesDirectoryPath = []\n",
    "\n",
    "file_pattern = 'LAM_cell1?_mask_t1.tif'\n",
    "for name in glob.glob(directory + file_pattern):\n",
    "    options[\"masks\"].append(name)\n",
    "\n",
    "file_pattern = 'LAM_cell1?_ch1_t1.tif'\n",
    "for name in glob.glob(directory + file_pattern):\n",
    "    cellImagesDirectoryPath.append(name)\n",
    "    \n",
    "file_pattern = 'LAM_cell1?_ch0_t1.tif'\n",
    "for name in glob.glob(directory + file_pattern):\n",
    "    dnaImagesDirectoryPath.append(name)\n",
    "    \n",
    "cellImagesDirectoryPath.sort()\n",
    "dnaImagesDirectoryPath.sort()\n",
    "options[\"masks\"].sort()"
   ]
  },
  {
   "cell_type": "code",
   "execution_count": 3,
   "metadata": {},
   "outputs": [
    {
     "name": "stdout",
     "output_type": "stream",
     "text": [
      "CellOrganizer v2.10 (MATLAB RO2019a)\n"
     ]
    }
   ],
   "source": [
    "# Code Cell 3\n",
    "\n",
    "answer = img2slml('3D', dnaImagesDirectoryPath, cellImagesDirectoryPath, [], options)\n",
    "\n",
    "if answer:\n",
    "    print('The model ' + model_name + '.mat has been created in ' + outputdir + os.path.sep + model_name)"
   ]
  },
  {
   "cell_type": "markdown",
   "metadata": {},
   "source": [
    "### now change the input files and the name of the model and build the second model \n",
    "### (keeping other things the same)"
   ]
  },
  {
   "cell_type": "code",
   "execution_count": 4,
   "metadata": {},
   "outputs": [],
   "source": [
    "# Code Cell 4\n",
    "\n",
    "model_name = \"Module2A2\"\n",
    "options[\"model.name\"] = model_name\n",
    "options[\"model.filename\"] = model_name + '.mat'\n",
    "options[\"output_filename\"] = model_name\n",
    "options[\"model.id\"] = str (uuid.uuid1())\n",
    "\n",
    "os.chdir(outputdir)\n",
    "os.system(\"ls\")\n",
    "if not os.path.exists(model_name):\n",
    "    os.makedirs(model_name)\n",
    "os.chdir(model_name)\n",
    "os.system(\"ls\")\n",
    "\n",
    "options[\"masks\"] = []\n",
    "dnaImagesDirectoryPath = []\n",
    "cellImagesDirectoryPath = []\n",
    "file_pattern = 'LAM_cell2?_mask_t1.tif'\n",
    "for name in glob.glob(directory + file_pattern):\n",
    "    options[\"masks\"].append(name)\n",
    "file_pattern = 'LAM_cell2?_ch1_t1.tif'\n",
    "for name in glob.glob(directory + file_pattern):\n",
    "    cellImagesDirectoryPath.append(name)   \n",
    "file_pattern = 'LAM_cell2?_ch0_t1.tif'\n",
    "for name in glob.glob(directory + file_pattern):\n",
    "    dnaImagesDirectoryPath.append(name)\n",
    "cellImagesDirectoryPath.sort()\n",
    "dnaImagesDirectoryPath.sort()\n",
    "options[\"masks\"].sort()"
   ]
  },
  {
   "cell_type": "code",
   "execution_count": 5,
   "metadata": {},
   "outputs": [
    {
     "name": "stdout",
     "output_type": "stream",
     "text": [
      "CellOrganizer v2.10 (MATLAB RO2019a)\n"
     ]
    }
   ],
   "source": [
    "# Code Cell 5\n",
    "\n",
    "answer = img2slml('3D', dnaImagesDirectoryPath, cellImagesDirectoryPath, [], options)\n",
    "\n",
    "if answer:\n",
    "    print('The model ' + model_name + '.mat has been created in ' + outputdir + os.path.sep + model_name)"
   ]
  }
 ],
 "metadata": {
  "kernelspec": {
   "display_name": "Python 3",
   "language": "python",
   "name": "python3"
  },
  "language_info": {
   "codemirror_mode": {
    "name": "ipython",
    "version": 3
   },
   "file_extension": ".py",
   "mimetype": "text/x-python",
   "name": "python",
   "nbconvert_exporter": "python",
   "pygments_lexer": "ipython3",
   "version": "3.7.6"
  }
 },
 "nbformat": 4,
 "nbformat_minor": 2
}
