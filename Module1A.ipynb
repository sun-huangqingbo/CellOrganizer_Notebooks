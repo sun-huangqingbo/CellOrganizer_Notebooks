{
 "cells": [
  {
   "cell_type": "markdown",
   "metadata": {},
   "source": [
    "# Module 1A\n",
    "### Module 1 covers how to organize your own images for use with CellOrganizer and illustrates building different types of models.  Typically, telling CellOrganizer what files to use to construct a model is done using wildcards (e.g., “Expt1Sample*Nuclear.tif”), and it is helpful to organize your files to facilitate this. \n",
    "\n",
    "### Module 1A builds a simple model, a cylindrical surface model for the nucleus and a ratio model for the cell surface.\n",
    "\n",
    "### Run the cell below to set up basic parameters:"
   ]
  },
  {
   "cell_type": "code",
   "execution_count": 1,
   "metadata": {},
   "outputs": [],
   "source": [
    "# Code Cell 1\n",
    "\n",
    "from cellorganizer.tools import img2slml\n",
    "import datetime\n",
    "import glob\n",
    "import urllib.request\n",
    "import os\n",
    "import uuid\n",
    "\n",
    "model_name = \"Module1A\"\n",
    "module_name = model_name\n",
    "topdir = \"/home/murphylab/cellorganizer/local/results\"\n",
    "if not os.path.exists(topdir):\n",
    "    os.makedirs(topdir)\n",
    "os.chdir(topdir)\n",
    "os.system(\"ls\")\n",
    "\n",
    "options = {}\n",
    "\n",
    "#set general options\n",
    "options[\"model.name\"] = module_name\n",
    "options[\"model.filename\"] = module_name + '.mat'\n",
    "options[\"output_filename\"] = module_name \n",
    "options[\"verbose\"] = 0\n",
    "options[\"debug\"] = 0\n",
    "options[\"display\"] = 0\n",
    "options[\"model.id\"] = str (uuid.uuid1())\n",
    "options[\"downsampling\"] = [5, 5, 1]\n",
    "options[\"model.resolution\"] = [0.049, 0.049, 0.2000]\n",
    "#options[\"if_skip_cell_nuclear_model\"] = 1\n",
    "\n",
    "# these options are only used for SPHARM-RPDM models\n",
    "# postprocess of parameterization: alignment\n",
    "# options[\"model.spharm_rpdm.postprocess\"] = 1\n",
    "# # alignment method: 'major_axis' or 'foe'\n",
    "# options[\"model.spharm_rpdm.alignment_method\"] = 'major_axis'\n",
    "# # plane of rotation: 'xy', 'xz', 'yz' or 'xyz'\n",
    "# options[\"model.spharm_rpdm.rotation_plane\"] = 'xy'\n",
    "# # degree of the descriptor\n",
    "# options[\"model.spharm_rpdm.maxDeg\"] = 31\n",
    "# # latent dimension for the model\n",
    "# options[\"model.spharm_rpdm.latent_dim\"] = 15\n",
    "# options[\"model.spharm_rpdm.segminnucfraction\"] = 0.1"
   ]
  },
  {
   "cell_type": "markdown",
   "metadata": {},
   "source": [
    "### Ideally, put all files to be used to build a model into a single directory (but all files for a single channel could be in a subdirectory).  The idea is to allow wildcards to be used easily.  Three examples are shown below for different ways that cells and channels might be organized into files.\n",
    "\n",
    "### The examples use provided images - you can change the directory and filenames for your own data\n",
    "\n",
    "### >>> You can change the method number below to choose a different method appropriate for your files <<<"
   ]
  },
  {
   "cell_type": "code",
   "execution_count": 2,
   "metadata": {},
   "outputs": [],
   "source": [
    "# Code Cell 2\n",
    "\n",
    "options[\"masks\"] = []\n",
    "dnaImagesDirectoryPath = []\n",
    "cellImagesDirectoryPath = []"
   ]
  },
  {
   "cell_type": "markdown",
   "metadata": {},
   "source": [
    "### Single file for each cell and channel.  In this case, no masks are needed to identify single cells in multicell images."
   ]
  },
  {
   "cell_type": "code",
   "execution_count": 3,
   "metadata": {},
   "outputs": [],
   "source": [
    "# Code Cell 3\n",
    "\n",
    "directory = '/home/murphylab/cellorganizer/local/images/HeLa/3D/processed/'\n",
    "\n",
    "file_pattern = 'LAM_cell1?_ch1_t1.tif'\n",
    "for name in glob.glob(directory + file_pattern):\n",
    "    cellImagesDirectoryPath.append(name)\n",
    "\n",
    "file_pattern = 'LAM_cell1?_ch0_t1.tif'\n",
    "for name in glob.glob(directory + file_pattern):\n",
    "    dnaImagesDirectoryPath.append(name)\n",
    "\n",
    "cellImagesDirectoryPath.sort()\n",
    "dnaImagesDirectoryPath.sort()\n",
    "\n",
    "cellImagesDirectoryPath = cellImagesDirectoryPath[0:3]\n",
    "dnaImagesDirectoryPath = dnaImagesDirectoryPath[0:3]"
   ]
  },
  {
   "cell_type": "markdown",
   "metadata": {},
   "source": [
    "### Single file for each channel, but cropping is needed to ensure that only a single cell is processed from each image.   This case adds a file with a single binary mask for each cell."
   ]
  },
  {
   "cell_type": "code",
   "execution_count": 4,
   "metadata": {},
   "outputs": [],
   "source": [
    "# Code Cell 4\n",
    "\n",
    "directory = '/home/murphylab/cellorganizer/local/images/HeLa/3D/processed/'\n",
    "\n",
    "file_pattern = 'LAM_cell1?_mask_t1.tif'\n",
    "for name in glob.glob(directory + file_pattern):\n",
    "    options[\"masks\"].append(name)\n",
    "\n",
    "file_pattern = 'LAM_cell1?_ch1_t1.tif'\n",
    "for name in glob.glob(directory + file_pattern):\n",
    "    cellImagesDirectoryPath.append(name)\n",
    "\n",
    "file_pattern = 'LAM_cell1?_ch0_t1.tif'\n",
    "for name in glob.glob(directory + file_pattern):\n",
    "    dnaImagesDirectoryPath.append(name)\n",
    "\n",
    "cellImagesDirectoryPath.sort()\n",
    "dnaImagesDirectoryPath.sort()\n",
    "options[\"masks\"].sort()\n",
    "\n",
    "cellImagesDirectoryPath = cellImagesDirectoryPath[0:3]\n",
    "dnaImagesDirectoryPath = dnaImagesDirectoryPath[0:3]"
   ]
  },
  {
   "cell_type": "markdown",
   "metadata": {},
   "source": [
    "### Multiple cells with multiple channels using OME-TIFF files with ROIs (Regions of Interests).  This is the most common case.  The channel number and time point to use from each file is specified using colons.  First number is channel, second number is timepoint."
   ]
  },
  {
   "cell_type": "code",
   "execution_count": 5,
   "metadata": {},
   "outputs": [],
   "source": [
    "# Code Cell 5\n",
    "\n",
    "directory = '/home/murphylab/cellorganizer/local/images/ometiff_with_rois/'\n",
    "\n",
    "file_pattern = 'hela_3d_processed_lam_cell?.ome.tif'\n",
    "for name in glob.glob(directory + file_pattern):\n",
    "    cellImagesDirectoryPath.append(name + ':1:0')\n",
    "    dnaImagesDirectoryPath.append(name + ':2:0')\n",
    "\n",
    "cellImagesDirectoryPath.sort()\n",
    "dnaImagesDirectoryPath.sort()"
   ]
  }
 ],
 "metadata": {
  "kernelspec": {
   "display_name": "Python 3",
   "language": "python",
   "name": "python3"
  },
  "language_info": {
   "codemirror_mode": {
    "name": "ipython",
    "version": 3
   },
   "file_extension": ".py",
   "mimetype": "text/x-python",
   "name": "python",
   "nbconvert_exporter": "python",
   "pygments_lexer": "ipython3",
   "version": "3.7.6"
  }
 },
 "nbformat": 4,
 "nbformat_minor": 2
}
